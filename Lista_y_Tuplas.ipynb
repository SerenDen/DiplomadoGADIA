{
  "nbformat": 4,
  "nbformat_minor": 0,
  "metadata": {
    "colab": {
      "provenance": []
    },
    "kernelspec": {
      "name": "python3",
      "display_name": "Python 3"
    },
    "language_info": {
      "name": "python"
    }
  },
  "cells": [
    {
      "cell_type": "code",
      "execution_count": null,
      "metadata": {
        "colab": {
          "base_uri": "https://localhost:8080/"
        },
        "id": "EWVc5GoI-MrQ",
        "outputId": "618cacec-e02f-40f6-e4d2-57d8af5a954e"
      },
      "outputs": [
        {
          "output_type": "stream",
          "name": "stdout",
          "text": [
            "la lista es: [1, 10, 3, 5, 6]\n"
          ]
        }
      ],
      "source": [
        "#Creacion y modificacion de listas\n",
        "\n",
        "# 1. Crear una lista llamada \"numeros\" que contenga los números del 1 al 5\n",
        "n = [1, 2, 3, 4, 5]\n",
        "\n",
        "# 2. Añadir el número 6 al final de la lista\n",
        "n.append(6)\n",
        "\n",
        "# 3. Cambiar el segundo elemento de la lista (índice 1) a 10\n",
        "n[1] = 10\n",
        "\n",
        "# 4. Eliminar el cuarto elemento de la lista (índice 3)\n",
        "del n[3]\n",
        "\n",
        "print(\"La lista es:\",n)"
      ]
    },
    {
      "cell_type": "code",
      "source": [
        "#Creacion de Tuplas\n",
        "\n",
        "# 1. Crear una tupla llamada colores con los colores 'rojo', 'verde' y 'azul'\n",
        "c = ('rojo', 'verde', 'azul')\n",
        "\n",
        "# 2. Acceder al primer elemento de la tupla\n",
        "p_c = c[0]\n",
        "\n",
        "# Imprimir el primer color\n",
        "print(\"El color es:\",p_c)"
      ],
      "metadata": {
        "colab": {
          "base_uri": "https://localhost:8080/"
        },
        "id": "C6eU3dn7-Z0T",
        "outputId": "985013b8-13a6-4be9-f841-7fb877f77695"
      },
      "execution_count": null,
      "outputs": [
        {
          "output_type": "stream",
          "name": "stdout",
          "text": [
            "El color es: rojo\n"
          ]
        }
      ]
    },
    {
      "cell_type": "code",
      "source": [],
      "metadata": {
        "id": "HoNaHkyx-iZC"
      },
      "execution_count": null,
      "outputs": []
    }
  ]
}