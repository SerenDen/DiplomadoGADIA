{
  "nbformat": 4,
  "nbformat_minor": 0,
  "metadata": {
    "colab": {
      "provenance": [],
      "history_visible": true
    },
    "kernelspec": {
      "name": "python3",
      "display_name": "Python 3"
    },
    "language_info": {
      "name": "python"
    }
  },
  "cells": [
    {
      "cell_type": "code",
      "source": [
        "# Declarar las variables a y b\n",
        "a = 10\n",
        "b = 3\n",
        "\n",
        "# Suma\n",
        "suma = a + b\n",
        "\n",
        "# Resta\n",
        "resta = a - b\n",
        "\n",
        "# Multiplicación\n",
        "multiplicacion = a * b\n",
        "\n",
        "# División\n",
        "division = a / b\n",
        "\n",
        "# Módulo\n",
        "modulo = a % b\n",
        "\n",
        "# Potencia\n",
        "potencia = a ** b\n",
        "\n",
        "# División entera\n",
        "division_entera = a // b\n",
        "\n",
        "# Imprimir los resultados\n",
        "print(f\"Suma: {suma}\")\n",
        "print(f\"Resta: {resta}\")\n",
        "print(f\"Multiplicación: {multiplicacion}\")\n",
        "print(f\"División: {division}\")\n",
        "print(f\"Módulo: {modulo}\")\n",
        "print(f\"Potencia: {potencia}\")\n",
        "print(f\"División entera: {division_entera}\")"
      ],
      "metadata": {
        "colab": {
          "base_uri": "https://localhost:8080/"
        },
        "id": "AMbypaumMcia",
        "outputId": "6308152d-d7c9-49cc-cc3d-70bd5f5c592d"
      },
      "execution_count": 5,
      "outputs": [
        {
          "output_type": "stream",
          "name": "stdout",
          "text": [
            "Suma: 13\n",
            "Resta: 7\n",
            "Multiplicación: 30\n",
            "División: 3.3333333333333335\n",
            "Módulo: 1\n",
            "Potencia: 1000\n",
            "División entera: 3\n"
          ]
        }
      ]
    }
  ]
}